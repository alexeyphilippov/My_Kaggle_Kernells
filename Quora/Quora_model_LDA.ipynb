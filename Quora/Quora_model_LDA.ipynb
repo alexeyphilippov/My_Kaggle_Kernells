{
 "cells": [
  {
   "cell_type": "markdown",
   "metadata": {},
   "source": [
    "## 1.1 Загрузка необходимых библиотек"
   ]
  },
  {
   "cell_type": "code",
   "execution_count": 1,
   "metadata": {},
   "outputs": [
    {
     "name": "stdout",
     "output_type": "stream",
     "text": [
      "[nltk_data] Downloading package stopwords to\n",
      "[nltk_data]     /Users/aleksejfilippov/nltk_data...\n",
      "[nltk_data]   Package stopwords is already up-to-date!\n",
      "[nltk_data] Downloading package punkt to\n",
      "[nltk_data]     /Users/aleksejfilippov/nltk_data...\n",
      "[nltk_data]   Package punkt is already up-to-date!\n"
     ]
    }
   ],
   "source": [
    "import pandas as pd\n",
    "import numpy as np\n",
    "from sklearn.model_selection import train_test_split\n",
    "import matplotlib.pyplot as plt\n",
    "\n",
    "from nltk.corpus import stopwords \n",
    "from nltk.tokenize import word_tokenize \n",
    "\n",
    "import nltk\n",
    "nltk.download('stopwords')\n",
    "nltk.download('punkt')\n",
    "\n",
    "from collections import Counter\n",
    "\n",
    "from sklearn.feature_extraction.text import TfidfVectorizer\n",
    "from sklearn.model_selection import GridSearchCV\n",
    "from sklearn.model_selection import cross_val_score\n",
    "from sklearn.metrics import f1_score\n",
    "\n",
    "from sklearn.tree import DecisionTreeClassifier\n",
    "from sklearn.model_selection import GridSearchCV\n",
    "from collections import OrderedDict\n",
    "from sklearn.metrics import roc_auc_score, log_loss\n",
    "import itertools"
   ]
  },
  {
   "cell_type": "code",
   "execution_count": 28,
   "metadata": {},
   "outputs": [
    {
     "name": "stdout",
     "output_type": "stream",
     "text": [
      "Train datasets shape: (1306122, 3)\n",
      "Test datasets shape: (56370, 2)\n"
     ]
    }
   ],
   "source": [
    "data_train_gen = pd.read_csv(\"/Users/aleksejfilippov/Desktop/techotrack/quora/csvs/train.csv\")\n",
    "data_test = pd.read_csv(\"/Users/aleksejfilippov/Desktop/techotrack/quora/csvs/test.csv\")\n",
    "print(\"Train datasets shape:\", data_train_gen.shape)\n",
    "print(\"Test datasets shape:\", data_test.shape)"
   ]
  },
  {
   "cell_type": "code",
   "execution_count": 29,
   "metadata": {},
   "outputs": [
    {
     "data": {
      "text/html": [
       "<div>\n",
       "<style scoped>\n",
       "    .dataframe tbody tr th:only-of-type {\n",
       "        vertical-align: middle;\n",
       "    }\n",
       "\n",
       "    .dataframe tbody tr th {\n",
       "        vertical-align: top;\n",
       "    }\n",
       "\n",
       "    .dataframe thead th {\n",
       "        text-align: right;\n",
       "    }\n",
       "</style>\n",
       "<table border=\"1\" class=\"dataframe\">\n",
       "  <thead>\n",
       "    <tr style=\"text-align: right;\">\n",
       "      <th></th>\n",
       "      <th>qid</th>\n",
       "      <th>question_text</th>\n",
       "      <th>target</th>\n",
       "    </tr>\n",
       "  </thead>\n",
       "  <tbody>\n",
       "    <tr>\n",
       "      <th>0</th>\n",
       "      <td>00002165364db923c7e6</td>\n",
       "      <td>How did Quebec nationalists see their province...</td>\n",
       "      <td>0</td>\n",
       "    </tr>\n",
       "    <tr>\n",
       "      <th>1</th>\n",
       "      <td>000032939017120e6e44</td>\n",
       "      <td>Do you have an adopted dog, how would you enco...</td>\n",
       "      <td>0</td>\n",
       "    </tr>\n",
       "    <tr>\n",
       "      <th>2</th>\n",
       "      <td>0000412ca6e4628ce2cf</td>\n",
       "      <td>Why does velocity affect time? Does velocity a...</td>\n",
       "      <td>0</td>\n",
       "    </tr>\n",
       "    <tr>\n",
       "      <th>3</th>\n",
       "      <td>000042bf85aa498cd78e</td>\n",
       "      <td>How did Otto von Guericke used the Magdeburg h...</td>\n",
       "      <td>0</td>\n",
       "    </tr>\n",
       "    <tr>\n",
       "      <th>4</th>\n",
       "      <td>0000455dfa3e01eae3af</td>\n",
       "      <td>Can I convert montra helicon D to a mountain b...</td>\n",
       "      <td>0</td>\n",
       "    </tr>\n",
       "  </tbody>\n",
       "</table>\n",
       "</div>"
      ],
      "text/plain": [
       "                    qid                                      question_text  \\\n",
       "0  00002165364db923c7e6  How did Quebec nationalists see their province...   \n",
       "1  000032939017120e6e44  Do you have an adopted dog, how would you enco...   \n",
       "2  0000412ca6e4628ce2cf  Why does velocity affect time? Does velocity a...   \n",
       "3  000042bf85aa498cd78e  How did Otto von Guericke used the Magdeburg h...   \n",
       "4  0000455dfa3e01eae3af  Can I convert montra helicon D to a mountain b...   \n",
       "\n",
       "   target  \n",
       "0       0  \n",
       "1       0  \n",
       "2       0  \n",
       "3       0  \n",
       "4       0  "
      ]
     },
     "execution_count": 29,
     "metadata": {},
     "output_type": "execute_result"
    }
   ],
   "source": [
    "data_train_gen.head()"
   ]
  },
  {
   "cell_type": "markdown",
   "metadata": {},
   "source": [
    "##  1.2 Посмотрим на число вхождений"
   ]
  },
  {
   "cell_type": "code",
   "execution_count": 30,
   "metadata": {},
   "outputs": [
    {
     "data": {
      "text/plain": [
       "80810"
      ]
     },
     "execution_count": 30,
     "metadata": {},
     "output_type": "execute_result"
    }
   ],
   "source": [
    "NUMBER_OF_1_LABELS = data_train_gen.target.value_counts()[1]\n",
    "NUMBER_OF_1_LABELS"
   ]
  },
  {
   "cell_type": "code",
   "execution_count": 31,
   "metadata": {},
   "outputs": [
    {
     "data": {
      "image/png": "[encoded data removed]",
      "text/plain": [
       "<Figure size 432x288 with 1 Axes>"
      ]
     },
     "metadata": {},
     "output_type": "display_data"
    }
   ],
   "source": [
    "count_Class=pd.value_counts(data_train_gen.target, sort= True)\n",
    "count_Class.plot(kind= 'bar', color= [\"blue\"])\n",
    "plt.title('Bar chart')\n",
    "plt.show()"
   ]
  },
  {
   "cell_type": "code",
   "execution_count": 32,
   "metadata": {},
   "outputs": [
    {
     "data": {
      "image/png": "[encoded data removed]",
      "text/plain": [
       "<Figure size 432x288 with 1 Axes>"
      ]
     },
     "metadata": {},
     "output_type": "display_data"
    }
   ],
   "source": [
    "count_Class.plot(kind = 'pie',  autopct='%1.0f%%')\n",
    "plt.title('Pie chart')\n",
    "plt.ylabel('')\n",
    "plt.show()"
   ]
  },
  {
   "cell_type": "markdown",
   "metadata": {},
   "source": [
    "## 1.3 Сбалансируем выборку"
   ]
  },
  {
   "cell_type": "code",
   "execution_count": 33,
   "metadata": {},
   "outputs": [],
   "source": [
    "num = 653826\n",
    "bad_df = data_train_gen[data_train_gen.target == 1]\n",
    "good_df = data_train_gen[data_train_gen.target == 0][:num]\n",
    "data_train = pd.concat([bad_df, good_df])"
   ]
  },
  {
   "cell_type": "code",
   "execution_count": 34,
   "metadata": {},
   "outputs": [
    {
     "data": {
      "image/png": "[encoded data removed]",
      "text/plain": [
       "<Figure size 432x288 with 1 Axes>"
      ]
     },
     "metadata": {},
     "output_type": "display_data"
    }
   ],
   "source": [
    "count_Class=pd.value_counts(data_train.target, sort= True)\n",
    "count_Class.plot(kind = 'pie',  autopct='%1.0f%%')\n",
    "plt.title('Pie chart')\n",
    "plt.ylabel('')\n",
    "plt.show()"
   ]
  },
  {
   "cell_type": "markdown",
   "metadata": {},
   "source": [
    "## 1.4 Перемешаем наш сбалансированый data_train_gen"
   ]
  },
  {
   "cell_type": "code",
   "execution_count": 35,
   "metadata": {},
   "outputs": [],
   "source": [
    "from sklearn.utils import shuffle\n",
    "data_train = shuffle(data_train)\n",
    "data_train = data_train[:10]"
   ]
  },
  {
   "cell_type": "markdown",
   "metadata": {},
   "source": [
    "## 2.1 Рассмотрим самые часто встречающиеся слова в вопросах"
   ]
  },
  {
   "cell_type": "code",
   "execution_count": 36,
   "metadata": {},
   "outputs": [],
   "source": [
    "count1 = Counter(\" \".join(data_train[data_train['target']==0].question_text).split()).most_common(50)\n",
    "df1 = pd.DataFrame.from_dict(count1)\n",
    "df1 = df1.rename(columns={0: \"words_in_excellent \", 1 : \"count_1\"})\n",
    "df1.T"
   ]
  },
  {
   "cell_type": "markdown",
   "metadata": {},
   "source": [
    "#### Заметим, что самыми популярными топ-50 словами явялются предлоги, местоимения, междометия и прочее, потому уберем такие слова из обучающей выборки , так как они не показывают определенную принадлежность к классу."
   ]
  },
  {
   "cell_type": "code",
   "execution_count": 37,
   "metadata": {},
   "outputs": [],
   "source": [
    "quiestion_words = ['what','when','why','which','who','how', 'whose', 'whome', 'people', 'i', \n",
    "                  'n\\'t','\\'s','like','get','would','would']\n",
    "stop_signs = [',', '.', '\"', ':', ')', '(', '-', '!', '?', '|', ';', \"'\", '$', '&', '/', '[', ']', '>', '%', '=', '#', '*', '+', '\\\\', '•',  '~', '@', '£', \n",
    " '·', '_', '{', '}', '©', '^', '®', '`',  '<', '→', '°', '€', '™', '›',  '♥', '←', '×', '§', '″', '′', 'Â', '█', '½', 'à', '…', \n",
    " '“', '★', '”', '–', '●', 'â', '►', '−', '¢', '²', '¬', '░', '¶', '↑', '±', '¿', '▾', '═', '¦', '║', '―', '¥', '▓', '—', '‹', '─', \n",
    " '▒', '：', '¼', '⊕', '▼', '▪', '†', '■', '’', '▀', '¨', '▄', '♫', '☆', 'é', '¯', '♦', '¤', '▲', 'è', '¸', '¾', 'Ã', '⋅', '‘', '∞', \n",
    " '∙', '）', '↓', '、', '│', '（', '»', '，', '♪', '╩', '╚', '³', '・', '╦', '╣', '╔', '╗', '▬', '❤', 'ï', 'Ø', '¹', '≤', '‡', '√']\n",
    "stop_words = stopwords.words('english')\n",
    "stop_words = stop_words.extend(quiestion_words)\n",
    "for w in quiestion_words:\n",
    "    stop_words.append(w)\n",
    "for w in stop_signs:\n",
    "    stop_words.append(w)"
   ]
  },
  {
   "cell_type": "code",
   "execution_count": 38,
   "metadata": {},
   "outputs": [],
   "source": [
    "from nltk.stem import WordNetLemmatizer\n",
    "wordnet_lemmatizer = WordNetLemmatizer()"
   ]
  },
  {
   "cell_type": "markdown",
   "metadata": {},
   "source": [
    "## 2.2 Уберем из предложений самые часто встречающиеся слова "
   ]
  },
  {
   "cell_type": "markdown",
   "metadata": {},
   "source": [
    "#### Также приведем все слова к lower case и выкинем некоторые знаки препинания."
   ]
  },
  {
   "cell_type": "code",
   "execution_count": 39,
   "metadata": {},
   "outputs": [],
   "source": [
    "cleaned_questions_train = []\n",
    " \n",
    "for sentence in data_train['question_text']:\n",
    "    new_sentence = [wordnet_lemmatizer.lemmatize(w).lower() for w in word_tokenize(sentence)]\n",
    "    new_sentence = [w for w in new_sentence if w not in stop_words]\n",
    "    new_sentence = [w for w in new_sentence if len(w)>3]\n",
    "         \n",
    "    clean = ' '.join(new_sentence)    \n",
    "   \n",
    "    cleaned_questions_train.append(clean)\n",
    "\n",
    "cleaned_questions_test = []\n",
    "for sentence in data_test['question_text']:\n",
    "    new_sentence = [wordnet_lemmatizer.lemmatize(w).lower() for w in word_tokenize(sentence)]\n",
    "    new_sentence = [w for w in new_sentence if w not in stop_words]\n",
    "    new_sentence = [w for w in new_sentence if len(w)>3]\n",
    "         \n",
    "    clean = ' '.join(new_sentence)    \n",
    "   \n",
    "    cleaned_questions_test.append(clean)"
   ]
  },
  {
   "cell_type": "code",
   "execution_count": 40,
   "metadata": {},
   "outputs": [
    {
     "data": {
      "text/html": [
       "<div>\n",
       "<style scoped>\n",
       "    .dataframe tbody tr th:only-of-type {\n",
       "        vertical-align: middle;\n",
       "    }\n",
       "\n",
       "    .dataframe tbody tr th {\n",
       "        vertical-align: top;\n",
       "    }\n",
       "\n",
       "    .dataframe thead th {\n",
       "        text-align: right;\n",
       "    }\n",
       "</style>\n",
       "<table border=\"1\" class=\"dataframe\">\n",
       "  <thead>\n",
       "    <tr style=\"text-align: right;\">\n",
       "      <th></th>\n",
       "      <th>debugged_questions</th>\n",
       "      <th>qid</th>\n",
       "      <th>question_text</th>\n",
       "    </tr>\n",
       "  </thead>\n",
       "  <tbody>\n",
       "    <tr>\n",
       "      <th>0</th>\n",
       "      <td>voice range a2-c5 chest voice included sample ...</td>\n",
       "      <td>00014894849d00ba98a9</td>\n",
       "      <td>My voice range is A2-C5. My chest voice goes u...</td>\n",
       "    </tr>\n",
       "    <tr>\n",
       "      <th>1</th>\n",
       "      <td>much tutor earn bangalore</td>\n",
       "      <td>000156468431f09b3cae</td>\n",
       "      <td>How much does a tutor earn in Bangalore?</td>\n",
       "    </tr>\n",
       "    <tr>\n",
       "      <th>2</th>\n",
       "      <td>best made pocket knife 200-300</td>\n",
       "      <td>000227734433360e1aae</td>\n",
       "      <td>What are the best made pocket knives under $20...</td>\n",
       "    </tr>\n",
       "    <tr>\n",
       "      <th>3</th>\n",
       "      <td>hypothetical scenario impossible happen link s...</td>\n",
       "      <td>0005e06fbe3045bd2a92</td>\n",
       "      <td>Why would they add a hypothetical scenario tha...</td>\n",
       "    </tr>\n",
       "    <tr>\n",
       "      <th>4</th>\n",
       "      <td>dresscode techmahindra fresher</td>\n",
       "      <td>00068a0f7f41f50fc399</td>\n",
       "      <td>What is the dresscode for Techmahindra freshers?</td>\n",
       "    </tr>\n",
       "  </tbody>\n",
       "</table>\n",
       "</div>"
      ],
      "text/plain": [
       "                                  debugged_questions                   qid  \\\n",
       "0  voice range a2-c5 chest voice included sample ...  00014894849d00ba98a9   \n",
       "1                          much tutor earn bangalore  000156468431f09b3cae   \n",
       "2                     best made pocket knife 200-300  000227734433360e1aae   \n",
       "3  hypothetical scenario impossible happen link s...  0005e06fbe3045bd2a92   \n",
       "4                     dresscode techmahindra fresher  00068a0f7f41f50fc399   \n",
       "\n",
       "                                       question_text  \n",
       "0  My voice range is A2-C5. My chest voice goes u...  \n",
       "1           How much does a tutor earn in Bangalore?  \n",
       "2  What are the best made pocket knives under $20...  \n",
       "3  Why would they add a hypothetical scenario tha...  \n",
       "4   What is the dresscode for Techmahindra freshers?  "
      ]
     },
     "execution_count": 40,
     "metadata": {},
     "output_type": "execute_result"
    }
   ],
   "source": [
    "data_train.insert(loc=0, column=\"debugged_questions\", value=cleaned_questions_train)\n",
    "data_test.insert(loc=0, column=\"debugged_questions\", value=cleaned_questions_test)\n",
    "data_test.head()"
   ]
  },
  {
   "cell_type": "code",
   "execution_count": null,
   "metadata": {},
   "outputs": [],
   "source": []
  },
  {
   "cell_type": "markdown",
   "metadata": {},
   "source": [
    "#### Выберем список уникальных слов из train и test, чтобы позже использовать его как словарь для TFidf."
   ]
  },
  {
   "cell_type": "code",
   "execution_count": 41,
   "metadata": {},
   "outputs": [],
   "source": [
    "words = []\n",
    "\n",
    "for sen in pd.concat([data_train.debugged_questions, data_test.debugged_questions]):\n",
    "    for word in sen.split():\n",
    "        if word not in words:\n",
    "            words.append(word)\n"
   ]
  },
  {
   "cell_type": "code",
   "execution_count": 42,
   "metadata": {},
   "outputs": [],
   "source": [
    "text = [word_tokenize(t) for t in pd.concat([data_train.debugged_questions, data_test.debugged_questions])]"
   ]
  },
  {
   "cell_type": "code",
   "execution_count": 43,
   "metadata": {},
   "outputs": [],
   "source": [
    "from gensim import corpora\n",
    "import gensim"
   ]
  },
  {
   "cell_type": "code",
   "execution_count": null,
   "metadata": {},
   "outputs": [],
   "source": [
    "dictionary = corpora.Dictionary(text)\n",
    "corpus = [dictionary.doc2bow(text) for text in text]\n",
    "lda = gensim.models.ldamulticore.LdaMulticore(corpus, id2word=dictionary, \n",
    "                                              num_topics=10, chunksize=10, passes=20\n",
    "                                             )\n"
   ]
  },
  {
   "cell_type": "code",
   "execution_count": 18,
   "metadata": {},
   "outputs": [],
   "source": [
    "y = data_train.target"
   ]
  },
  {
   "cell_type": "code",
   "execution_count": 19,
   "metadata": {},
   "outputs": [],
   "source": [
    "vectorizer = TfidfVectorizer(\"english\", vocabulary = words)\n",
    "X = vectorizer.fit_transform(data_train['debugged_questions'])\n",
    "X_val = vectorizer.fit_transform(data_test['debugged_questions'])"
   ]
  },
  {
   "cell_type": "markdown",
   "metadata": {},
   "source": [
    "## 3.1 Строим решающие деревья по сетке параметров. "
   ]
  },
  {
   "cell_type": "code",
   "execution_count": 418,
   "metadata": {},
   "outputs": [],
   "source": [
    "X_train, X_test, y_train, y_test = train_test_split(X, y, test_size = 0.3, random_state=42)"
   ]
  },
  {
   "cell_type": "code",
   "execution_count": 419,
   "metadata": {},
   "outputs": [
    {
     "name": "stderr",
     "output_type": "stream",
     "text": [
      "/Users/aleksejfilippov/anaconda3/lib/python3.6/site-packages/sklearn/metrics/classification.py:1135: UndefinedMetricWarning: F-score is ill-defined and being set to 0.0 due to no predicted samples.\n",
      "  'precision', 'predicted', average, warn_for)\n"
     ]
    },
    {
     "data": {
      "text/html": [
       "<style  type=\"text/css\" >\n",
       "    #T_8edd8b1c_0f74_11e9_a116_d0e1408c580crow0_col1 {\n",
       "            background-color:  #ffbf01;\n",
       "        }    #T_8edd8b1c_0f74_11e9_a116_d0e1408c580crow0_col2 {\n",
       "            background-color:  #ffb600;\n",
       "        }    #T_8edd8b1c_0f74_11e9_a116_d0e1408c580crow0_col3 {\n",
       "            background-color:  #ffb500;\n",
       "        }    #T_8edd8b1c_0f74_11e9_a116_d0e1408c580crow0_col4 {\n",
       "            background-color:  #ffac00;\n",
       "        }    #T_8edd8b1c_0f74_11e9_a116_d0e1408c580crow1_col1 {\n",
       "            background-color:  #ffb900;\n",
       "        }    #T_8edd8b1c_0f74_11e9_a116_d0e1408c580crow1_col2 {\n",
       "            background-color:  #ffac00;\n",
       "        }    #T_8edd8b1c_0f74_11e9_a116_d0e1408c580crow1_col3 {\n",
       "            background-color:  #ffb000;\n",
       "        }    #T_8edd8b1c_0f74_11e9_a116_d0e1408c580crow1_col4 {\n",
       "            background-color:  #ffa300;\n",
       "        }    #T_8edd8b1c_0f74_11e9_a116_d0e1408c580crow2_col1 {\n",
       "            background-color:  #e4ff7a;\n",
       "        }    #T_8edd8b1c_0f74_11e9_a116_d0e1408c580crow2_col2 {\n",
       "            background-color:  #e4ff7a;\n",
       "        }    #T_8edd8b1c_0f74_11e9_a116_d0e1408c580crow2_col3 {\n",
       "            background-color:  #e4ff7a;\n",
       "        }    #T_8edd8b1c_0f74_11e9_a116_d0e1408c580crow2_col4 {\n",
       "            background-color:  #e4ff7a;\n",
       "        }    #T_8edd8b1c_0f74_11e9_a116_d0e1408c580crow3_col1 {\n",
       "            background-color:  #e4ff7a;\n",
       "        }    #T_8edd8b1c_0f74_11e9_a116_d0e1408c580crow3_col2 {\n",
       "            background-color:  #e4ff7a;\n",
       "        }    #T_8edd8b1c_0f74_11e9_a116_d0e1408c580crow3_col3 {\n",
       "            background-color:  #e4ff7a;\n",
       "        }    #T_8edd8b1c_0f74_11e9_a116_d0e1408c580crow3_col4 {\n",
       "            background-color:  #e4ff7a;\n",
       "        }    #T_8edd8b1c_0f74_11e9_a116_d0e1408c580crow4_col1 {\n",
       "            background-color:  #e4ff7a;\n",
       "        }    #T_8edd8b1c_0f74_11e9_a116_d0e1408c580crow4_col2 {\n",
       "            background-color:  #e4ff7a;\n",
       "        }    #T_8edd8b1c_0f74_11e9_a116_d0e1408c580crow4_col3 {\n",
       "            background-color:  #e4ff7a;\n",
       "        }    #T_8edd8b1c_0f74_11e9_a116_d0e1408c580crow4_col4 {\n",
       "            background-color:  #e4ff7a;\n",
       "        }    #T_8edd8b1c_0f74_11e9_a116_d0e1408c580crow5_col1 {\n",
       "            background-color:  #fd8d00;\n",
       "        }    #T_8edd8b1c_0f74_11e9_a116_d0e1408c580crow5_col2 {\n",
       "            background-color:  #fd8600;\n",
       "        }    #T_8edd8b1c_0f74_11e9_a116_d0e1408c580crow5_col3 {\n",
       "            background-color:  #fd8900;\n",
       "        }    #T_8edd8b1c_0f74_11e9_a116_d0e1408c580crow5_col4 {\n",
       "            background-color:  #fc8300;\n",
       "        }    #T_8edd8b1c_0f74_11e9_a116_d0e1408c580crow6_col1 {\n",
       "            background-color:  #ffb900;\n",
       "        }    #T_8edd8b1c_0f74_11e9_a116_d0e1408c580crow6_col2 {\n",
       "            background-color:  #ffac00;\n",
       "        }    #T_8edd8b1c_0f74_11e9_a116_d0e1408c580crow6_col3 {\n",
       "            background-color:  #ffb000;\n",
       "        }    #T_8edd8b1c_0f74_11e9_a116_d0e1408c580crow6_col4 {\n",
       "            background-color:  #ffa300;\n",
       "        }    #T_8edd8b1c_0f74_11e9_a116_d0e1408c580crow7_col1 {\n",
       "            background-color:  #e4ff7a;\n",
       "        }    #T_8edd8b1c_0f74_11e9_a116_d0e1408c580crow7_col2 {\n",
       "            background-color:  #e4ff7a;\n",
       "        }    #T_8edd8b1c_0f74_11e9_a116_d0e1408c580crow7_col3 {\n",
       "            background-color:  #e4ff7a;\n",
       "        }    #T_8edd8b1c_0f74_11e9_a116_d0e1408c580crow7_col4 {\n",
       "            background-color:  #e4ff7a;\n",
       "        }    #T_8edd8b1c_0f74_11e9_a116_d0e1408c580crow8_col1 {\n",
       "            background-color:  #e4ff7a;\n",
       "        }    #T_8edd8b1c_0f74_11e9_a116_d0e1408c580crow8_col2 {\n",
       "            background-color:  #e4ff7a;\n",
       "        }    #T_8edd8b1c_0f74_11e9_a116_d0e1408c580crow8_col3 {\n",
       "            background-color:  #e4ff7a;\n",
       "        }    #T_8edd8b1c_0f74_11e9_a116_d0e1408c580crow8_col4 {\n",
       "            background-color:  #e4ff7a;\n",
       "        }    #T_8edd8b1c_0f74_11e9_a116_d0e1408c580crow9_col1 {\n",
       "            background-color:  #e4ff7a;\n",
       "        }    #T_8edd8b1c_0f74_11e9_a116_d0e1408c580crow9_col2 {\n",
       "            background-color:  #e4ff7a;\n",
       "        }    #T_8edd8b1c_0f74_11e9_a116_d0e1408c580crow9_col3 {\n",
       "            background-color:  #e4ff7a;\n",
       "        }    #T_8edd8b1c_0f74_11e9_a116_d0e1408c580crow9_col4 {\n",
       "            background-color:  #e4ff7a;\n",
       "        }    #T_8edd8b1c_0f74_11e9_a116_d0e1408c580crow10_col1 {\n",
       "            background-color:  #fc7f00;\n",
       "        }    #T_8edd8b1c_0f74_11e9_a116_d0e1408c580crow10_col2 {\n",
       "            background-color:  #fc7f00;\n",
       "        }    #T_8edd8b1c_0f74_11e9_a116_d0e1408c580crow10_col3 {\n",
       "            background-color:  #fc7f00;\n",
       "        }    #T_8edd8b1c_0f74_11e9_a116_d0e1408c580crow10_col4 {\n",
       "            background-color:  #fc7f00;\n",
       "        }    #T_8edd8b1c_0f74_11e9_a116_d0e1408c580crow11_col1 {\n",
       "            background-color:  #ffb900;\n",
       "        }    #T_8edd8b1c_0f74_11e9_a116_d0e1408c580crow11_col2 {\n",
       "            background-color:  #ffac00;\n",
       "        }    #T_8edd8b1c_0f74_11e9_a116_d0e1408c580crow11_col3 {\n",
       "            background-color:  #ffb000;\n",
       "        }    #T_8edd8b1c_0f74_11e9_a116_d0e1408c580crow11_col4 {\n",
       "            background-color:  #ffa300;\n",
       "        }    #T_8edd8b1c_0f74_11e9_a116_d0e1408c580crow12_col1 {\n",
       "            background-color:  #e4ff7a;\n",
       "        }    #T_8edd8b1c_0f74_11e9_a116_d0e1408c580crow12_col2 {\n",
       "            background-color:  #e4ff7a;\n",
       "        }    #T_8edd8b1c_0f74_11e9_a116_d0e1408c580crow12_col3 {\n",
       "            background-color:  #e4ff7a;\n",
       "        }    #T_8edd8b1c_0f74_11e9_a116_d0e1408c580crow12_col4 {\n",
       "            background-color:  #e4ff7a;\n",
       "        }    #T_8edd8b1c_0f74_11e9_a116_d0e1408c580crow13_col1 {\n",
       "            background-color:  #e4ff7a;\n",
       "        }    #T_8edd8b1c_0f74_11e9_a116_d0e1408c580crow13_col2 {\n",
       "            background-color:  #e4ff7a;\n",
       "        }    #T_8edd8b1c_0f74_11e9_a116_d0e1408c580crow13_col3 {\n",
       "            background-color:  #e4ff7a;\n",
       "        }    #T_8edd8b1c_0f74_11e9_a116_d0e1408c580crow13_col4 {\n",
       "            background-color:  #e4ff7a;\n",
       "        }    #T_8edd8b1c_0f74_11e9_a116_d0e1408c580crow14_col1 {\n",
       "            background-color:  #e4ff7a;\n",
       "        }    #T_8edd8b1c_0f74_11e9_a116_d0e1408c580crow14_col2 {\n",
       "            background-color:  #e4ff7a;\n",
       "        }    #T_8edd8b1c_0f74_11e9_a116_d0e1408c580crow14_col3 {\n",
       "            background-color:  #e4ff7a;\n",
       "        }    #T_8edd8b1c_0f74_11e9_a116_d0e1408c580crow14_col4 {\n",
       "            background-color:  #e4ff7a;\n",
       "        }    #T_8edd8b1c_0f74_11e9_a116_d0e1408c580crow15_col1 {\n",
       "            background-color:  #fc7f00;\n",
       "        }    #T_8edd8b1c_0f74_11e9_a116_d0e1408c580crow15_col2 {\n",
       "            background-color:  #fc7f00;\n",
       "        }    #T_8edd8b1c_0f74_11e9_a116_d0e1408c580crow15_col3 {\n",
       "            background-color:  #fc7f00;\n",
       "        }    #T_8edd8b1c_0f74_11e9_a116_d0e1408c580crow15_col4 {\n",
       "            background-color:  #fc7f00;\n",
       "        }    #T_8edd8b1c_0f74_11e9_a116_d0e1408c580crow16_col1 {\n",
       "            background-color:  #ffb900;\n",
       "        }    #T_8edd8b1c_0f74_11e9_a116_d0e1408c580crow16_col2 {\n",
       "            background-color:  #ffac00;\n",
       "        }    #T_8edd8b1c_0f74_11e9_a116_d0e1408c580crow16_col3 {\n",
       "            background-color:  #ffb000;\n",
       "        }    #T_8edd8b1c_0f74_11e9_a116_d0e1408c580crow16_col4 {\n",
       "            background-color:  #ffa300;\n",
       "        }    #T_8edd8b1c_0f74_11e9_a116_d0e1408c580crow17_col1 {\n",
       "            background-color:  #e4ff7a;\n",
       "        }    #T_8edd8b1c_0f74_11e9_a116_d0e1408c580crow17_col2 {\n",
       "            background-color:  #e4ff7a;\n",
       "        }    #T_8edd8b1c_0f74_11e9_a116_d0e1408c580crow17_col3 {\n",
       "            background-color:  #e4ff7a;\n",
       "        }    #T_8edd8b1c_0f74_11e9_a116_d0e1408c580crow17_col4 {\n",
       "            background-color:  #e4ff7a;\n",
       "        }    #T_8edd8b1c_0f74_11e9_a116_d0e1408c580crow18_col1 {\n",
       "            background-color:  #e4ff7a;\n",
       "        }    #T_8edd8b1c_0f74_11e9_a116_d0e1408c580crow18_col2 {\n",
       "            background-color:  #e4ff7a;\n",
       "        }    #T_8edd8b1c_0f74_11e9_a116_d0e1408c580crow18_col3 {\n",
       "            background-color:  #e4ff7a;\n",
       "        }    #T_8edd8b1c_0f74_11e9_a116_d0e1408c580crow18_col4 {\n",
       "            background-color:  #e4ff7a;\n",
       "        }    #T_8edd8b1c_0f74_11e9_a116_d0e1408c580crow19_col1 {\n",
       "            background-color:  #e4ff7a;\n",
       "        }    #T_8edd8b1c_0f74_11e9_a116_d0e1408c580crow19_col2 {\n",
       "            background-color:  #e4ff7a;\n",
       "        }    #T_8edd8b1c_0f74_11e9_a116_d0e1408c580crow19_col3 {\n",
       "            background-color:  #e4ff7a;\n",
       "        }    #T_8edd8b1c_0f74_11e9_a116_d0e1408c580crow19_col4 {\n",
       "            background-color:  #e4ff7a;\n",
       "        }    #T_8edd8b1c_0f74_11e9_a116_d0e1408c580crow20_col1 {\n",
       "            background-color:  #fc7f00;\n",
       "        }    #T_8edd8b1c_0f74_11e9_a116_d0e1408c580crow20_col2 {\n",
       "            background-color:  #fc7f00;\n",
       "        }    #T_8edd8b1c_0f74_11e9_a116_d0e1408c580crow20_col3 {\n",
       "            background-color:  #fc7f00;\n",
       "        }    #T_8edd8b1c_0f74_11e9_a116_d0e1408c580crow20_col4 {\n",
       "            background-color:  #fc7f00;\n",
       "        }    #T_8edd8b1c_0f74_11e9_a116_d0e1408c580crow21_col1 {\n",
       "            background-color:  #ffb900;\n",
       "        }    #T_8edd8b1c_0f74_11e9_a116_d0e1408c580crow21_col2 {\n",
       "            background-color:  #ffac00;\n",
       "        }    #T_8edd8b1c_0f74_11e9_a116_d0e1408c580crow21_col3 {\n",
       "            background-color:  #ffb000;\n",
       "        }    #T_8edd8b1c_0f74_11e9_a116_d0e1408c580crow21_col4 {\n",
       "            background-color:  #ffa300;\n",
       "        }    #T_8edd8b1c_0f74_11e9_a116_d0e1408c580crow22_col1 {\n",
       "            background-color:  #e4ff7a;\n",
       "        }    #T_8edd8b1c_0f74_11e9_a116_d0e1408c580crow22_col2 {\n",
       "            background-color:  #e4ff7a;\n",
       "        }    #T_8edd8b1c_0f74_11e9_a116_d0e1408c580crow22_col3 {\n",
       "            background-color:  #e4ff7a;\n",
       "        }    #T_8edd8b1c_0f74_11e9_a116_d0e1408c580crow22_col4 {\n",
       "            background-color:  #e4ff7a;\n",
       "        }    #T_8edd8b1c_0f74_11e9_a116_d0e1408c580crow23_col1 {\n",
       "            background-color:  #e4ff7a;\n",
       "        }    #T_8edd8b1c_0f74_11e9_a116_d0e1408c580crow23_col2 {\n",
       "            background-color:  #e4ff7a;\n",
       "        }    #T_8edd8b1c_0f74_11e9_a116_d0e1408c580crow23_col3 {\n",
       "            background-color:  #e4ff7a;\n",
       "        }    #T_8edd8b1c_0f74_11e9_a116_d0e1408c580crow23_col4 {\n",
       "            background-color:  #e4ff7a;\n",
       "        }    #T_8edd8b1c_0f74_11e9_a116_d0e1408c580crow24_col1 {\n",
       "            background-color:  #e4ff7a;\n",
       "        }    #T_8edd8b1c_0f74_11e9_a116_d0e1408c580crow24_col2 {\n",
       "            background-color:  #e4ff7a;\n",
       "        }    #T_8edd8b1c_0f74_11e9_a116_d0e1408c580crow24_col3 {\n",
       "            background-color:  #e4ff7a;\n",
       "        }    #T_8edd8b1c_0f74_11e9_a116_d0e1408c580crow24_col4 {\n",
       "            background-color:  #e4ff7a;\n",
       "        }</style>  \n",
       "<table id=\"T_8edd8b1c_0f74_11e9_a116_d0e1408c580c\" > \n",
       "<thead>    <tr> \n",
       "        <th class=\"blank level0\" ></th> \n",
       "        <th class=\"col_heading level0 col0\" >params</th> \n",
       "        <th class=\"col_heading level0 col1\" >roc_auc_train</th> \n",
       "        <th class=\"col_heading level0 col2\" >roc_auc_valid</th> \n",
       "        <th class=\"col_heading level0 col3\" >f1_train</th> \n",
       "        <th class=\"col_heading level0 col4\" >f1_valid</th> \n",
       "    </tr></thead> \n",
       "<tbody>    <tr> \n",
       "        <th id=\"T_8edd8b1c_0f74_11e9_a116_d0e1408c580clevel0_row0\" class=\"row_heading level0 row0\" >0</th> \n",
       "        <td id=\"T_8edd8b1c_0f74_11e9_a116_d0e1408c580crow0_col0\" class=\"data row0 col0\" >{'max_depth': 2, 'min_samples_leaf': 20}</td> \n",
       "        <td id=\"T_8edd8b1c_0f74_11e9_a116_d0e1408c580crow0_col1\" class=\"data row0 col1\" >0.561098</td> \n",
       "        <td id=\"T_8edd8b1c_0f74_11e9_a116_d0e1408c580crow0_col2\" class=\"data row0 col2\" >0.565172</td> \n",
       "        <td id=\"T_8edd8b1c_0f74_11e9_a116_d0e1408c580crow0_col3\" class=\"data row0 col3\" >0.218845</td> \n",
       "        <td id=\"T_8edd8b1c_0f74_11e9_a116_d0e1408c580crow0_col4\" class=\"data row0 col4\" >0.229885</td> \n",
       "    </tr>    <tr> \n",
       "        <th id=\"T_8edd8b1c_0f74_11e9_a116_d0e1408c580clevel0_row1\" class=\"row_heading level0 row1\" >1</th> \n",
       "        <td id=\"T_8edd8b1c_0f74_11e9_a116_d0e1408c580crow1_col0\" class=\"data row1 col0\" >{'max_depth': 2, 'min_samples_leaf': 70}</td> \n",
       "        <td id=\"T_8edd8b1c_0f74_11e9_a116_d0e1408c580crow1_col1\" class=\"data row1 col1\" >0.567017</td> \n",
       "        <td id=\"T_8edd8b1c_0f74_11e9_a116_d0e1408c580crow1_col2\" class=\"data row1 col2\" >0.575727</td> \n",
       "        <td id=\"T_8edd8b1c_0f74_11e9_a116_d0e1408c580crow1_col3\" class=\"data row1 col3\" >0.235877</td> \n",
       "        <td id=\"T_8edd8b1c_0f74_11e9_a116_d0e1408c580crow1_col4\" class=\"data row1 col4\" >0.257778</td> \n",
       "    </tr>    <tr> \n",
       "        <th id=\"T_8edd8b1c_0f74_11e9_a116_d0e1408c580clevel0_row2\" class=\"row_heading level0 row2\" >2</th> \n",
       "        <td id=\"T_8edd8b1c_0f74_11e9_a116_d0e1408c580crow2_col0\" class=\"data row2 col0\" >{'max_depth': 2, 'min_samples_leaf': 244}</td> \n",
       "        <td id=\"T_8edd8b1c_0f74_11e9_a116_d0e1408c580crow2_col1\" class=\"data row2 col1\" >0.5</td> \n",
       "        <td id=\"T_8edd8b1c_0f74_11e9_a116_d0e1408c580crow2_col2\" class=\"data row2 col2\" >0.5</td> \n",
       "        <td id=\"T_8edd8b1c_0f74_11e9_a116_d0e1408c580crow2_col3\" class=\"data row2 col3\" >0</td> \n",
       "        <td id=\"T_8edd8b1c_0f74_11e9_a116_d0e1408c580crow2_col4\" class=\"data row2 col4\" >0</td> \n",
       "    </tr>    <tr> \n",
       "        <th id=\"T_8edd8b1c_0f74_11e9_a116_d0e1408c580clevel0_row3\" class=\"row_heading level0 row3\" >3</th> \n",
       "        <td id=\"T_8edd8b1c_0f74_11e9_a116_d0e1408c580crow3_col0\" class=\"data row3 col0\" >{'max_depth': 2, 'min_samples_leaf': 854}</td> \n",
       "        <td id=\"T_8edd8b1c_0f74_11e9_a116_d0e1408c580crow3_col1\" class=\"data row3 col1\" >0.5</td> \n",
       "        <td id=\"T_8edd8b1c_0f74_11e9_a116_d0e1408c580crow3_col2\" class=\"data row3 col2\" >0.5</td> \n",
       "        <td id=\"T_8edd8b1c_0f74_11e9_a116_d0e1408c580crow3_col3\" class=\"data row3 col3\" >0</td> \n",
       "        <td id=\"T_8edd8b1c_0f74_11e9_a116_d0e1408c580crow3_col4\" class=\"data row3 col4\" >0</td> \n",
       "    </tr>    <tr> \n",
       "        <th id=\"T_8edd8b1c_0f74_11e9_a116_d0e1408c580clevel0_row4\" class=\"row_heading level0 row4\" >4</th> \n",
       "        <td id=\"T_8edd8b1c_0f74_11e9_a116_d0e1408c580crow4_col0\" class=\"data row4 col0\" >{'max_depth': 2, 'min_samples_leaf': 2980}</td> \n",
       "        <td id=\"T_8edd8b1c_0f74_11e9_a116_d0e1408c580crow4_col1\" class=\"data row4 col1\" >0.5</td> \n",
       "        <td id=\"T_8edd8b1c_0f74_11e9_a116_d0e1408c580crow4_col2\" class=\"data row4 col2\" >0.5</td> \n",
       "        <td id=\"T_8edd8b1c_0f74_11e9_a116_d0e1408c580crow4_col3\" class=\"data row4 col3\" >0</td> \n",
       "        <td id=\"T_8edd8b1c_0f74_11e9_a116_d0e1408c580crow4_col4\" class=\"data row4 col4\" >0</td> \n",
       "    </tr>    <tr> \n",
       "        <th id=\"T_8edd8b1c_0f74_11e9_a116_d0e1408c580clevel0_row5\" class=\"row_heading level0 row5\" >5</th> \n",
       "        <td id=\"T_8edd8b1c_0f74_11e9_a116_d0e1408c580crow5_col0\" class=\"data row5 col0\" >{'max_depth': 6, 'min_samples_leaf': 20}</td> \n",
       "        <td id=\"T_8edd8b1c_0f74_11e9_a116_d0e1408c580crow5_col1\" class=\"data row5 col1\" >0.610818</td> \n",
       "        <td id=\"T_8edd8b1c_0f74_11e9_a116_d0e1408c580crow5_col2\" class=\"data row5 col2\" >0.610415</td> \n",
       "        <td id=\"T_8edd8b1c_0f74_11e9_a116_d0e1408c580crow5_col3\" class=\"data row5 col3\" >0.352283</td> \n",
       "        <td id=\"T_8edd8b1c_0f74_11e9_a116_d0e1408c580crow5_col4\" class=\"data row5 col4\" >0.344681</td> \n",
       "    </tr>    <tr> \n",
       "        <th id=\"T_8edd8b1c_0f74_11e9_a116_d0e1408c580clevel0_row6\" class=\"row_heading level0 row6\" >6</th> \n",
       "        <td id=\"T_8edd8b1c_0f74_11e9_a116_d0e1408c580crow6_col0\" class=\"data row6 col0\" >{'max_depth': 6, 'min_samples_leaf': 70}</td> \n",
       "        <td id=\"T_8edd8b1c_0f74_11e9_a116_d0e1408c580crow6_col1\" class=\"data row6 col1\" >0.567017</td> \n",
       "        <td id=\"T_8edd8b1c_0f74_11e9_a116_d0e1408c580crow6_col2\" class=\"data row6 col2\" >0.575727</td> \n",
       "        <td id=\"T_8edd8b1c_0f74_11e9_a116_d0e1408c580crow6_col3\" class=\"data row6 col3\" >0.235877</td> \n",
       "        <td id=\"T_8edd8b1c_0f74_11e9_a116_d0e1408c580crow6_col4\" class=\"data row6 col4\" >0.257778</td> \n",
       "    </tr>    <tr> \n",
       "        <th id=\"T_8edd8b1c_0f74_11e9_a116_d0e1408c580clevel0_row7\" class=\"row_heading level0 row7\" >7</th> \n",
       "        <td id=\"T_8edd8b1c_0f74_11e9_a116_d0e1408c580crow7_col0\" class=\"data row7 col0\" >{'max_depth': 6, 'min_samples_leaf': 244}</td> \n",
       "        <td id=\"T_8edd8b1c_0f74_11e9_a116_d0e1408c580crow7_col1\" class=\"data row7 col1\" >0.5</td> \n",
       "        <td id=\"T_8edd8b1c_0f74_11e9_a116_d0e1408c580crow7_col2\" class=\"data row7 col2\" >0.5</td> \n",
       "        <td id=\"T_8edd8b1c_0f74_11e9_a116_d0e1408c580crow7_col3\" class=\"data row7 col3\" >0</td> \n",
       "        <td id=\"T_8edd8b1c_0f74_11e9_a116_d0e1408c580crow7_col4\" class=\"data row7 col4\" >0</td> \n",
       "    </tr>    <tr> \n",
       "        <th id=\"T_8edd8b1c_0f74_11e9_a116_d0e1408c580clevel0_row8\" class=\"row_heading level0 row8\" >8</th> \n",
       "        <td id=\"T_8edd8b1c_0f74_11e9_a116_d0e1408c580crow8_col0\" class=\"data row8 col0\" >{'max_depth': 6, 'min_samples_leaf': 854}</td> \n",
       "        <td id=\"T_8edd8b1c_0f74_11e9_a116_d0e1408c580crow8_col1\" class=\"data row8 col1\" >0.5</td> \n",
       "        <td id=\"T_8edd8b1c_0f74_11e9_a116_d0e1408c580crow8_col2\" class=\"data row8 col2\" >0.5</td> \n",
       "        <td id=\"T_8edd8b1c_0f74_11e9_a116_d0e1408c580crow8_col3\" class=\"data row8 col3\" >0</td> \n",
       "        <td id=\"T_8edd8b1c_0f74_11e9_a116_d0e1408c580crow8_col4\" class=\"data row8 col4\" >0</td> \n",
       "    </tr>    <tr> \n",
       "        <th id=\"T_8edd8b1c_0f74_11e9_a116_d0e1408c580clevel0_row9\" class=\"row_heading level0 row9\" >9</th> \n",
       "        <td id=\"T_8edd8b1c_0f74_11e9_a116_d0e1408c580crow9_col0\" class=\"data row9 col0\" >{'max_depth': 6, 'min_samples_leaf': 2980}</td> \n",
       "        <td id=\"T_8edd8b1c_0f74_11e9_a116_d0e1408c580crow9_col1\" class=\"data row9 col1\" >0.5</td> \n",
       "        <td id=\"T_8edd8b1c_0f74_11e9_a116_d0e1408c580crow9_col2\" class=\"data row9 col2\" >0.5</td> \n",
       "        <td id=\"T_8edd8b1c_0f74_11e9_a116_d0e1408c580crow9_col3\" class=\"data row9 col3\" >0</td> \n",
       "        <td id=\"T_8edd8b1c_0f74_11e9_a116_d0e1408c580crow9_col4\" class=\"data row9 col4\" >0</td> \n",
       "    </tr>    <tr> \n",
       "        <th id=\"T_8edd8b1c_0f74_11e9_a116_d0e1408c580clevel0_row10\" class=\"row_heading level0 row10\" >10</th> \n",
       "        <td id=\"T_8edd8b1c_0f74_11e9_a116_d0e1408c580crow10_col0\" class=\"data row10 col0\" >{'max_depth': 10, 'min_samples_leaf': 20}</td> \n",
       "        <td id=\"T_8edd8b1c_0f74_11e9_a116_d0e1408c580crow10_col1\" class=\"data row10 col1\" >0.624755</td> \n",
       "        <td id=\"T_8edd8b1c_0f74_11e9_a116_d0e1408c580crow10_col2\" class=\"data row10 col2\" >0.616876</td> \n",
       "        <td id=\"T_8edd8b1c_0f74_11e9_a116_d0e1408c580crow10_col3\" class=\"data row10 col3\" >0.383169</td> \n",
       "        <td id=\"T_8edd8b1c_0f74_11e9_a116_d0e1408c580crow10_col4\" class=\"data row10 col4\" >0.355828</td> \n",
       "    </tr>    <tr> \n",
       "        <th id=\"T_8edd8b1c_0f74_11e9_a116_d0e1408c580clevel0_row11\" class=\"row_heading level0 row11\" >11</th> \n",
       "        <td id=\"T_8edd8b1c_0f74_11e9_a116_d0e1408c580crow11_col0\" class=\"data row11 col0\" >{'max_depth': 10, 'min_samples_leaf': 70}</td> \n",
       "        <td id=\"T_8edd8b1c_0f74_11e9_a116_d0e1408c580crow11_col1\" class=\"data row11 col1\" >0.567017</td> \n",
       "        <td id=\"T_8edd8b1c_0f74_11e9_a116_d0e1408c580crow11_col2\" class=\"data row11 col2\" >0.575727</td> \n",
       "        <td id=\"T_8edd8b1c_0f74_11e9_a116_d0e1408c580crow11_col3\" class=\"data row11 col3\" >0.235877</td> \n",
       "        <td id=\"T_8edd8b1c_0f74_11e9_a116_d0e1408c580crow11_col4\" class=\"data row11 col4\" >0.257778</td> \n",
       "    </tr>    <tr> \n",
       "        <th id=\"T_8edd8b1c_0f74_11e9_a116_d0e1408c580clevel0_row12\" class=\"row_heading level0 row12\" >12</th> \n",
       "        <td id=\"T_8edd8b1c_0f74_11e9_a116_d0e1408c580crow12_col0\" class=\"data row12 col0\" >{'max_depth': 10, 'min_samples_leaf': 244}</td> \n",
       "        <td id=\"T_8edd8b1c_0f74_11e9_a116_d0e1408c580crow12_col1\" class=\"data row12 col1\" >0.5</td> \n",
       "        <td id=\"T_8edd8b1c_0f74_11e9_a116_d0e1408c580crow12_col2\" class=\"data row12 col2\" >0.5</td> \n",
       "        <td id=\"T_8edd8b1c_0f74_11e9_a116_d0e1408c580crow12_col3\" class=\"data row12 col3\" >0</td> \n",
       "        <td id=\"T_8edd8b1c_0f74_11e9_a116_d0e1408c580crow12_col4\" class=\"data row12 col4\" >0</td> \n",
       "    </tr>    <tr> \n",
       "        <th id=\"T_8edd8b1c_0f74_11e9_a116_d0e1408c580clevel0_row13\" class=\"row_heading level0 row13\" >13</th> \n",
       "        <td id=\"T_8edd8b1c_0f74_11e9_a116_d0e1408c580crow13_col0\" class=\"data row13 col0\" >{'max_depth': 10, 'min_samples_leaf': 854}</td> \n",
       "        <td id=\"T_8edd8b1c_0f74_11e9_a116_d0e1408c580crow13_col1\" class=\"data row13 col1\" >0.5</td> \n",
       "        <td id=\"T_8edd8b1c_0f74_11e9_a116_d0e1408c580crow13_col2\" class=\"data row13 col2\" >0.5</td> \n",
       "        <td id=\"T_8edd8b1c_0f74_11e9_a116_d0e1408c580crow13_col3\" class=\"data row13 col3\" >0</td> \n",
       "        <td id=\"T_8edd8b1c_0f74_11e9_a116_d0e1408c580crow13_col4\" class=\"data row13 col4\" >0</td> \n",
       "    </tr>    <tr> \n",
       "        <th id=\"T_8edd8b1c_0f74_11e9_a116_d0e1408c580clevel0_row14\" class=\"row_heading level0 row14\" >14</th> \n",
       "        <td id=\"T_8edd8b1c_0f74_11e9_a116_d0e1408c580crow14_col0\" class=\"data row14 col0\" >{'max_depth': 10, 'min_samples_leaf': 2980}</td> \n",
       "        <td id=\"T_8edd8b1c_0f74_11e9_a116_d0e1408c580crow14_col1\" class=\"data row14 col1\" >0.5</td> \n",
       "        <td id=\"T_8edd8b1c_0f74_11e9_a116_d0e1408c580crow14_col2\" class=\"data row14 col2\" >0.5</td> \n",
       "        <td id=\"T_8edd8b1c_0f74_11e9_a116_d0e1408c580crow14_col3\" class=\"data row14 col3\" >0</td> \n",
       "        <td id=\"T_8edd8b1c_0f74_11e9_a116_d0e1408c580crow14_col4\" class=\"data row14 col4\" >0</td> \n",
       "    </tr>    <tr> \n",
       "        <th id=\"T_8edd8b1c_0f74_11e9_a116_d0e1408c580clevel0_row15\" class=\"row_heading level0 row15\" >15</th> \n",
       "        <td id=\"T_8edd8b1c_0f74_11e9_a116_d0e1408c580crow15_col0\" class=\"data row15 col0\" >{'max_depth': 14, 'min_samples_leaf': 20}</td> \n",
       "        <td id=\"T_8edd8b1c_0f74_11e9_a116_d0e1408c580crow15_col1\" class=\"data row15 col1\" >0.624755</td> \n",
       "        <td id=\"T_8edd8b1c_0f74_11e9_a116_d0e1408c580crow15_col2\" class=\"data row15 col2\" >0.616876</td> \n",
       "        <td id=\"T_8edd8b1c_0f74_11e9_a116_d0e1408c580crow15_col3\" class=\"data row15 col3\" >0.383169</td> \n",
       "        <td id=\"T_8edd8b1c_0f74_11e9_a116_d0e1408c580crow15_col4\" class=\"data row15 col4\" >0.355828</td> \n",
       "    </tr>    <tr> \n",
       "        <th id=\"T_8edd8b1c_0f74_11e9_a116_d0e1408c580clevel0_row16\" class=\"row_heading level0 row16\" >16</th> \n",
       "        <td id=\"T_8edd8b1c_0f74_11e9_a116_d0e1408c580crow16_col0\" class=\"data row16 col0\" >{'max_depth': 14, 'min_samples_leaf': 70}</td> \n",
       "        <td id=\"T_8edd8b1c_0f74_11e9_a116_d0e1408c580crow16_col1\" class=\"data row16 col1\" >0.567017</td> \n",
       "        <td id=\"T_8edd8b1c_0f74_11e9_a116_d0e1408c580crow16_col2\" class=\"data row16 col2\" >0.575727</td> \n",
       "        <td id=\"T_8edd8b1c_0f74_11e9_a116_d0e1408c580crow16_col3\" class=\"data row16 col3\" >0.235877</td> \n",
       "        <td id=\"T_8edd8b1c_0f74_11e9_a116_d0e1408c580crow16_col4\" class=\"data row16 col4\" >0.257778</td> \n",
       "    </tr>    <tr> \n",
       "        <th id=\"T_8edd8b1c_0f74_11e9_a116_d0e1408c580clevel0_row17\" class=\"row_heading level0 row17\" >17</th> \n",
       "        <td id=\"T_8edd8b1c_0f74_11e9_a116_d0e1408c580crow17_col0\" class=\"data row17 col0\" >{'max_depth': 14, 'min_samples_leaf': 244}</td> \n",
       "        <td id=\"T_8edd8b1c_0f74_11e9_a116_d0e1408c580crow17_col1\" class=\"data row17 col1\" >0.5</td> \n",
       "        <td id=\"T_8edd8b1c_0f74_11e9_a116_d0e1408c580crow17_col2\" class=\"data row17 col2\" >0.5</td> \n",
       "        <td id=\"T_8edd8b1c_0f74_11e9_a116_d0e1408c580crow17_col3\" class=\"data row17 col3\" >0</td> \n",
       "        <td id=\"T_8edd8b1c_0f74_11e9_a116_d0e1408c580crow17_col4\" class=\"data row17 col4\" >0</td> \n",
       "    </tr>    <tr> \n",
       "        <th id=\"T_8edd8b1c_0f74_11e9_a116_d0e1408c580clevel0_row18\" class=\"row_heading level0 row18\" >18</th> \n",
       "        <td id=\"T_8edd8b1c_0f74_11e9_a116_d0e1408c580crow18_col0\" class=\"data row18 col0\" >{'max_depth': 14, 'min_samples_leaf': 854}</td> \n",
       "        <td id=\"T_8edd8b1c_0f74_11e9_a116_d0e1408c580crow18_col1\" class=\"data row18 col1\" >0.5</td> \n",
       "        <td id=\"T_8edd8b1c_0f74_11e9_a116_d0e1408c580crow18_col2\" class=\"data row18 col2\" >0.5</td> \n",
       "        <td id=\"T_8edd8b1c_0f74_11e9_a116_d0e1408c580crow18_col3\" class=\"data row18 col3\" >0</td> \n",
       "        <td id=\"T_8edd8b1c_0f74_11e9_a116_d0e1408c580crow18_col4\" class=\"data row18 col4\" >0</td> \n",
       "    </tr>    <tr> \n",
       "        <th id=\"T_8edd8b1c_0f74_11e9_a116_d0e1408c580clevel0_row19\" class=\"row_heading level0 row19\" >19</th> \n",
       "        <td id=\"T_8edd8b1c_0f74_11e9_a116_d0e1408c580crow19_col0\" class=\"data row19 col0\" >{'max_depth': 14, 'min_samples_leaf': 2980}</td> \n",
       "        <td id=\"T_8edd8b1c_0f74_11e9_a116_d0e1408c580crow19_col1\" class=\"data row19 col1\" >0.5</td> \n",
       "        <td id=\"T_8edd8b1c_0f74_11e9_a116_d0e1408c580crow19_col2\" class=\"data row19 col2\" >0.5</td> \n",
       "        <td id=\"T_8edd8b1c_0f74_11e9_a116_d0e1408c580crow19_col3\" class=\"data row19 col3\" >0</td> \n",
       "        <td id=\"T_8edd8b1c_0f74_11e9_a116_d0e1408c580crow19_col4\" class=\"data row19 col4\" >0</td> \n",
       "    </tr>    <tr> \n",
       "        <th id=\"T_8edd8b1c_0f74_11e9_a116_d0e1408c580clevel0_row20\" class=\"row_heading level0 row20\" >20</th> \n",
       "        <td id=\"T_8edd8b1c_0f74_11e9_a116_d0e1408c580crow20_col0\" class=\"data row20 col0\" >{'max_depth': 18, 'min_samples_leaf': 20}</td> \n",
       "        <td id=\"T_8edd8b1c_0f74_11e9_a116_d0e1408c580crow20_col1\" class=\"data row20 col1\" >0.624755</td> \n",
       "        <td id=\"T_8edd8b1c_0f74_11e9_a116_d0e1408c580crow20_col2\" class=\"data row20 col2\" >0.616876</td> \n",
       "        <td id=\"T_8edd8b1c_0f74_11e9_a116_d0e1408c580crow20_col3\" class=\"data row20 col3\" >0.383169</td> \n",
       "        <td id=\"T_8edd8b1c_0f74_11e9_a116_d0e1408c580crow20_col4\" class=\"data row20 col4\" >0.355828</td> \n",
       "    </tr>    <tr> \n",
       "        <th id=\"T_8edd8b1c_0f74_11e9_a116_d0e1408c580clevel0_row21\" class=\"row_heading level0 row21\" >21</th> \n",
       "        <td id=\"T_8edd8b1c_0f74_11e9_a116_d0e1408c580crow21_col0\" class=\"data row21 col0\" >{'max_depth': 18, 'min_samples_leaf': 70}</td> \n",
       "        <td id=\"T_8edd8b1c_0f74_11e9_a116_d0e1408c580crow21_col1\" class=\"data row21 col1\" >0.567017</td> \n",
       "        <td id=\"T_8edd8b1c_0f74_11e9_a116_d0e1408c580crow21_col2\" class=\"data row21 col2\" >0.575727</td> \n",
       "        <td id=\"T_8edd8b1c_0f74_11e9_a116_d0e1408c580crow21_col3\" class=\"data row21 col3\" >0.235877</td> \n",
       "        <td id=\"T_8edd8b1c_0f74_11e9_a116_d0e1408c580crow21_col4\" class=\"data row21 col4\" >0.257778</td> \n",
       "    </tr>    <tr> \n",
       "        <th id=\"T_8edd8b1c_0f74_11e9_a116_d0e1408c580clevel0_row22\" class=\"row_heading level0 row22\" >22</th> \n",
       "        <td id=\"T_8edd8b1c_0f74_11e9_a116_d0e1408c580crow22_col0\" class=\"data row22 col0\" >{'max_depth': 18, 'min_samples_leaf': 244}</td> \n",
       "        <td id=\"T_8edd8b1c_0f74_11e9_a116_d0e1408c580crow22_col1\" class=\"data row22 col1\" >0.5</td> \n",
       "        <td id=\"T_8edd8b1c_0f74_11e9_a116_d0e1408c580crow22_col2\" class=\"data row22 col2\" >0.5</td> \n",
       "        <td id=\"T_8edd8b1c_0f74_11e9_a116_d0e1408c580crow22_col3\" class=\"data row22 col3\" >0</td> \n",
       "        <td id=\"T_8edd8b1c_0f74_11e9_a116_d0e1408c580crow22_col4\" class=\"data row22 col4\" >0</td> \n",
       "    </tr>    <tr> \n",
       "        <th id=\"T_8edd8b1c_0f74_11e9_a116_d0e1408c580clevel0_row23\" class=\"row_heading level0 row23\" >23</th> \n",
       "        <td id=\"T_8edd8b1c_0f74_11e9_a116_d0e1408c580crow23_col0\" class=\"data row23 col0\" >{'max_depth': 18, 'min_samples_leaf': 854}</td> \n",
       "        <td id=\"T_8edd8b1c_0f74_11e9_a116_d0e1408c580crow23_col1\" class=\"data row23 col1\" >0.5</td> \n",
       "        <td id=\"T_8edd8b1c_0f74_11e9_a116_d0e1408c580crow23_col2\" class=\"data row23 col2\" >0.5</td> \n",
       "        <td id=\"T_8edd8b1c_0f74_11e9_a116_d0e1408c580crow23_col3\" class=\"data row23 col3\" >0</td> \n",
       "        <td id=\"T_8edd8b1c_0f74_11e9_a116_d0e1408c580crow23_col4\" class=\"data row23 col4\" >0</td> \n",
       "    </tr>    <tr> \n",
       "        <th id=\"T_8edd8b1c_0f74_11e9_a116_d0e1408c580clevel0_row24\" class=\"row_heading level0 row24\" >24</th> \n",
       "        <td id=\"T_8edd8b1c_0f74_11e9_a116_d0e1408c580crow24_col0\" class=\"data row24 col0\" >{'max_depth': 18, 'min_samples_leaf': 2980}</td> \n",
       "        <td id=\"T_8edd8b1c_0f74_11e9_a116_d0e1408c580crow24_col1\" class=\"data row24 col1\" >0.5</td> \n",
       "        <td id=\"T_8edd8b1c_0f74_11e9_a116_d0e1408c580crow24_col2\" class=\"data row24 col2\" >0.5</td> \n",
       "        <td id=\"T_8edd8b1c_0f74_11e9_a116_d0e1408c580crow24_col3\" class=\"data row24 col3\" >0</td> \n",
       "        <td id=\"T_8edd8b1c_0f74_11e9_a116_d0e1408c580crow24_col4\" class=\"data row24 col4\" >0</td> \n",
       "    </tr></tbody> \n",
       "</table> "
      ],
      "text/plain": [
       "<pandas.io.formats.style.Styler at 0x1ad40e9160>"
      ]
     },
     "execution_count": 419,
     "metadata": {},
     "output_type": "execute_result"
    }
   ],
   "source": [
    "grid = OrderedDict((\n",
    "        ('max_depth',np.arange(2,20,4)),\n",
    "        ('min_samples_leaf',np.exp(np.linspace(3,8,5)).astype(int))))\n",
    "\n",
    "result = {'params':[],'roc_auc_train':[],'roc_auc_valid':[], 'f1_train':[], 'f1_valid':[]}\n",
    "\n",
    "for param_values in itertools.product(*grid.values()):\n",
    "    param = dict(zip(grid.keys(),param_values))\n",
    "    clf = DecisionTreeClassifier(**param)\n",
    "\n",
    "    clf.fit(X_train,y_train)\n",
    "\n",
    "    train_pred = clf.predict(X_train)\n",
    "    valid_pred = clf.predict(X_test)\n",
    "\n",
    "    roc_auc_train = roc_auc_score(y_train,train_pred)\n",
    "    roc_auc_valid = roc_auc_score(y_test,valid_pred)\n",
    "    f1_train = f1_score(y_train,train_pred)\n",
    "    f1_test = f1_score(y_test,valid_pred)\n",
    "    result['params'].append(param)\n",
    "    result['roc_auc_train'].append(roc_auc_train)\n",
    "    result['roc_auc_valid'].append(roc_auc_valid)\n",
    "    result['f1_train'].append(f1_train)\n",
    "    result['f1_valid'].append(f1_test)\n",
    "\n",
    "# Выводим результаты    \n",
    "(pd.DataFrame(result)   \n",
    "   .style\n",
    "   .background_gradient('Wistia')\n",
    ")\n"
   ]
  },
  {
   "cell_type": "markdown",
   "metadata": {},
   "source": [
    "#### видим, что на validation выборке лучший результат по метрике F1 при max_depth = 18 и min_samples_leaf = 20"
   ]
  },
  {
   "cell_type": "markdown",
   "metadata": {},
   "source": [
    "## 3.2 Возможно найдем лучшие параметры, используя Grid Search"
   ]
  },
  {
   "cell_type": "code",
   "execution_count": 19,
   "metadata": {},
   "outputs": [
    {
     "data": {
      "text/plain": [
       "GridSearchCV(cv=5, error_score='raise',\n",
       "       estimator=DecisionTreeClassifier(class_weight=None, criterion='gini', max_depth=None,\n",
       "            max_features=None, max_leaf_nodes=None,\n",
       "            min_impurity_decrease=0.0, min_impurity_split=None,\n",
       "            min_samples_leaf=1, min_samples_split=2,\n",
       "            min_weight_fraction_leaf=0.0, presort=False, random_state=None,\n",
       "            splitter='best'),\n",
       "       fit_params=None, iid=True, n_jobs=-1,\n",
       "       param_grid={'max_depth': array([ 2,  6, 10, 14]), 'min_samples_leaf': [20, 70, 244, 854]},\n",
       "       pre_dispatch='2*n_jobs', refit=True, return_train_score='warn',\n",
       "       scoring='f1', verbose=0)"
      ]
     },
     "execution_count": 19,
     "metadata": {},
     "output_type": "execute_result"
    }
   ],
   "source": [
    "first_tree = DecisionTreeClassifier()\n",
    "tree_params_grid = {'max_depth' : np.arange(2,18,4),'min_samples_leaf': [20,70,244,854]}\n",
    "tree_grid=GridSearchCV(first_tree,tree_params_grid,scoring='f1'\n",
    "                        ,cv=5,n_jobs = -1)\n",
    "\n",
    "tree_grid.fit(X_train,y_train)"
   ]
  },
  {
   "cell_type": "code",
   "execution_count": 20,
   "metadata": {},
   "outputs": [
    {
     "data": {
      "text/plain": [
       "(0.7559379504883844, {'max_depth': 6, 'min_samples_leaf': 20})"
      ]
     },
     "execution_count": 20,
     "metadata": {},
     "output_type": "execute_result"
    }
   ],
   "source": [
    "tree_grid.best_score_, tree_grid.best_params_"
   ]
  },
  {
   "cell_type": "markdown",
   "metadata": {},
   "source": [
    "#### Параметры, подобранные руками показывают результат(0.76) лучше, чем Grid search(0.75). Тогда окончательную модель строим на параметрах max_depth = 18 и min_samples_leaf = 20"
   ]
  },
  {
   "cell_type": "code",
   "execution_count": 21,
   "metadata": {},
   "outputs": [
    {
     "data": {
      "text/plain": [
       "0.7364209170767603"
      ]
     },
     "execution_count": 21,
     "metadata": {},
     "output_type": "execute_result"
    }
   ],
   "source": [
    "f_tree = DecisionTreeClassifier(max_depth = 18, min_samples_leaf = 20)\n",
    "f_tree.fit(X_train,y_train)\n",
    "prediction = f_tree.predict(X_test)\n",
    "f1 = f1_score(y_test, prediction)\n",
    "f1"
   ]
  },
  {
   "cell_type": "markdown",
   "metadata": {},
   "source": [
    "## Анализ ошибок модели"
   ]
  },
  {
   "cell_type": "markdown",
   "metadata": {},
   "source": [
    "#### Нарисуем кривую ROC"
   ]
  },
  {
   "cell_type": "code",
   "execution_count": 22,
   "metadata": {},
   "outputs": [
    {
     "data": {
      "image/png": "[encoded data removed]",
      "text/plain": [
       "<Figure size 432x288 with 1 Axes>"
      ]
     },
     "metadata": {},
     "output_type": "display_data"
    }
   ],
   "source": [
    "from sklearn.metrics import roc_curve, auc\n",
    "\n",
    "train_predict = f_tree.predict(X_train)\n",
    "valid_predict = f_tree.predict(X_test)\n",
    "\n",
    "plt.figure()\n",
    "lw = 2\n",
    "plt.plot(*roc_curve(y_train,train_predict)[:-1], color='red',\n",
    "         lw=lw, label='Train ROC curve (area = %0.3f)' % roc_auc_train)\n",
    "plt.plot(*roc_curve(y_test,valid_predict)[:-1], color='darkorange',\n",
    "         lw=lw, label='Valid ROC curve (area = %0.3f)' % roc_auc_valid)\n",
    "plt.plot([0, 1], [0, 1], color='navy', lw=lw, linestyle='--')\n",
    "plt.xlim([0.0, 1.0])\n",
    "plt.ylim([0.0, 1.05])\n",
    "plt.xlabel('False Positive Rate')\n",
    "plt.ylabel('True Positive Rate')\n",
    "plt.title('Receiver operating characteristic')\n",
    "plt.legend(loc=\"lower right\")\n",
    "plt.show()"
   ]
  },
  {
   "cell_type": "markdown",
   "metadata": {},
   "source": [
    "## Делаем submission"
   ]
  },
  {
   "cell_type": "code",
   "execution_count": 657,
   "metadata": {},
   "outputs": [],
   "source": [
    "sub_df = pd.DataFrame({'qid':data_test.qid.values})\n",
    "sub_df['prediction'] = f_tree.predict(X_val)\n",
    "sub_df.to_csv('submission.csv', index=False)"
   ]
  }
 ],
 "metadata": {
  "kernelspec": {
   "display_name": "Python 3",
   "language": "python",
   "name": "python3"
  },
  "language_info": {
   "codemirror_mode": {
    "name": "ipython",
    "version": 3
   },
   "file_extension": ".py",
   "mimetype": "text/x-python",
   "name": "python",
   "nbconvert_exporter": "python",
   "pygments_lexer": "ipython3",
   "version": "3.6.5"
  }
 },
 "nbformat": 4,
 "nbformat_minor": 2
}
